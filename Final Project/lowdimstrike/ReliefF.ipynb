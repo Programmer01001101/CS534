{
 "cells": [
  {
   "cell_type": "code",
   "execution_count": 1,
   "metadata": {},
   "outputs": [],
   "source": [
    "import numpy as np\n",
    "import pandas as pd\n",
    "from ReliefF import ReliefF"
   ]
  },
  {
   "cell_type": "code",
   "execution_count": 2,
   "metadata": {},
   "outputs": [],
   "source": [
    "def read_file(path):\n",
    "#     df = pd.read_csv(path,delimiter = '\\t',skiprows = [0,1,2,3])\n",
    "    df = pd.read_csv(path,delimiter = '\\t')\n",
    "    return df"
   ]
  },
  {
   "cell_type": "code",
   "execution_count": 3,
   "metadata": {},
   "outputs": [],
   "source": [
    "def preprocessing(df):\n",
    "    # reset column name and drop all row Nan value\n",
    "    df.columns = df.iloc[3]\n",
    "    df = df.iloc[4:]\n",
    "    df = df.dropna()\n",
    "    # reset data type of each column\n",
    "    df[\"LYMPH_NODES_EXAMINED_POSITIVE\"] = df[\"LYMPH_NODES_EXAMINED_POSITIVE\"].astype('int64')\n",
    "    df[\"NPI\"] = df[\"NPI\"].astype('float64')\n",
    "    df[\"CELLULARITY\"] = df[\"CELLULARITY\"].astype('category')\n",
    "    df[\"CHEMOTHERAPY\"] = df[\"CHEMOTHERAPY\"].astype('category')\n",
    "    df[\"COHORT\"] = df[\"COHORT\"].astype('int64')\n",
    "    df[\"ER_IHC\"] = df[\"ER_IHC\"].astype('category')\n",
    "    df[\"HER2_SNP6\"] = df[\"HER2_SNP6\"].astype('category')\n",
    "    df[\"HORMONE_THERAPY\"] = df[\"HORMONE_THERAPY\"].astype('category')\n",
    "    df[\"INFERRED_MENOPAUSAL_STATE\"] = df[\"INFERRED_MENOPAUSAL_STATE\"].astype('category')\n",
    "    df[\"INTCLUST\"] = df[\"INTCLUST\"].astype('category')\n",
    "    df[\"AGE_AT_DIAGNOSIS\"] = df[\"AGE_AT_DIAGNOSIS\"].astype('float64')\n",
    "    df[\"OS_MONTHS\"] = df[\"OS_MONTHS\"].astype('float64')\n",
    "    df[\"OS_STATUS\"] = df[\"OS_STATUS\"].astype('category')\n",
    "    df[\"CLAUDIN_SUBTYPE\"] = df[\"CLAUDIN_SUBTYPE\"].astype('category')\n",
    "    df[\"THREEGENE\"] = df[\"THREEGENE\"].astype('category')\n",
    "    df[\"VITAL_STATUS\"] = df[\"VITAL_STATUS\"].astype('category')\n",
    "    df[\"LATERALITY\"] = df[\"LATERALITY\"].astype('category')\n",
    "    df[\"RADIO_THERAPY\"] = df[\"RADIO_THERAPY\"].astype('category')\n",
    "    df[\"HISTOLOGICAL_SUBTYPE\"] = df[\"HISTOLOGICAL_SUBTYPE\"].astype('category')\n",
    "    df[\"BREAST_SURGERY\"] = df[\"BREAST_SURGERY\"].astype('category')\n",
    "    \n",
    "    return df"
   ]
  },
  {
   "cell_type": "code",
   "execution_count": 4,
   "metadata": {},
   "outputs": [],
   "source": [
    "def category_encoding(df):\n",
    "    char_cols = df.dtypes.pipe(lambda x: x[x == 'category']).index\n",
    "    label_mapping = {}\n",
    "    char_cols\n",
    "\n",
    "    for c in char_cols:\n",
    "        df[c], label_mapping[c] = pd.factorize(df[c])\n",
    "    return df,label_mapping"
   ]
  },
  {
   "cell_type": "code",
   "execution_count": 5,
   "metadata": {},
   "outputs": [],
   "source": [
    "raw_data = read_file(\"data_clinical_patient.txt\")\n",
    "train_data = preprocessing(raw_data)"
   ]
  },
  {
   "cell_type": "code",
   "execution_count": 6,
   "metadata": {},
   "outputs": [],
   "source": [
    "cat_df,mapping = category_encoding(train_data)"
   ]
  },
  {
   "cell_type": "code",
   "execution_count": 7,
   "metadata": {},
   "outputs": [],
   "source": [
    "cat_df = cat_df.drop(['OS_MONTHS'], axis = 1)\n",
    "cat_df = cat_df.drop(['VITAL_STATUS'], axis = 1)"
   ]
  },
  {
   "cell_type": "code",
   "execution_count": 8,
   "metadata": {},
   "outputs": [],
   "source": [
    "cat_df = cat_df.drop(['PATIENT_ID'], axis = 1)"
   ]
  },
  {
   "cell_type": "code",
   "execution_count": 9,
   "metadata": {},
   "outputs": [],
   "source": [
    "# Generate Traing And Testing Data\n",
    "y = np.array(cat_df['OS_STATUS'])\n",
    "X = np.array(cat_df.drop(['OS_STATUS'], axis = 1))\n",
    "# min_max_scaler = preprocessing.MinMaxScaler()\n",
    "# X = min_max_scaler.fit_transform(X)"
   ]
  },
  {
   "cell_type": "code",
   "execution_count": 10,
   "metadata": {},
   "outputs": [
    {
     "data": {
      "text/plain": [
       "array([0, 1, 1, ..., 1, 1, 0])"
      ]
     },
     "execution_count": 10,
     "metadata": {},
     "output_type": "execute_result"
    }
   ],
   "source": [
    "y"
   ]
  },
  {
   "cell_type": "code",
   "execution_count": 11,
   "metadata": {},
   "outputs": [
    {
     "data": {
      "text/plain": [
       "array([[0.   , 4.02 , 0.   , ..., 0.   , 0.   , 0.   ],\n",
       "       [8.   , 6.08 , 0.   , ..., 0.   , 1.   , 1.   ],\n",
       "       [0.   , 4.062, 1.   , ..., 0.   , 0.   , 1.   ],\n",
       "       ...,\n",
       "       [1.   , 5.03 , 0.   , ..., 1.   , 0.   , 1.   ],\n",
       "       [3.   , 5.05 , 0.   , ..., 1.   , 0.   , 1.   ],\n",
       "       [1.   , 5.05 , 0.   , ..., 0.   , 2.   , 0.   ]])"
      ]
     },
     "execution_count": 11,
     "metadata": {},
     "output_type": "execute_result"
    }
   ],
   "source": [
    "X"
   ]
  },
  {
   "cell_type": "code",
   "execution_count": 13,
   "metadata": {},
   "outputs": [
    {
     "name": "stdout",
     "output_type": "stream",
     "text": [
      "(380, 17) (380, 10)\n"
     ]
    }
   ],
   "source": [
    "from sklearn.model_selection import train_test_split\n",
    "from ReliefF import ReliefF\n",
    "\n",
    "X_train, X_test, y_train, y_test = train_test_split(X,y)\n",
    "fs = ReliefF(n_neighbors=100, n_features_to_keep=10)\n",
    "X_train = fs.fit_transform(X_train, y_train)\n",
    "X_test_subset = fs.transform(X_test)\n",
    "print(X_test.shape, X_test_subset.shape)"
   ]
  },
  {
   "cell_type": "code",
   "execution_count": null,
   "metadata": {},
   "outputs": [],
   "source": []
  }
 ],
 "metadata": {
  "kernelspec": {
   "display_name": "Python 3",
   "language": "python",
   "name": "python3"
  },
  "language_info": {
   "codemirror_mode": {
    "name": "ipython",
    "version": 3
   },
   "file_extension": ".py",
   "mimetype": "text/x-python",
   "name": "python",
   "nbconvert_exporter": "python",
   "pygments_lexer": "ipython3",
   "version": "3.7.1"
  }
 },
 "nbformat": 4,
 "nbformat_minor": 2
}
