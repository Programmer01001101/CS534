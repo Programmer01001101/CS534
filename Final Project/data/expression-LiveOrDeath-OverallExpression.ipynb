{
 "cells": [
  {
   "cell_type": "code",
   "execution_count": 1,
   "metadata": {},
   "outputs": [],
   "source": [
    "import pandas as pd\n",
    "import numpy as np"
   ]
  },
  {
   "cell_type": "code",
   "execution_count": 35,
   "metadata": {},
   "outputs": [],
   "source": [
    "def read_file(path):\n",
    "#     df = pd.read_csv(path,delimiter = '\\t',skiprows = [0,1,2,3])\n",
    "    df = pd.read_csv(path,delimiter = '\\t')\n",
    "    return df"
   ]
  },
  {
   "cell_type": "code",
   "execution_count": 36,
   "metadata": {},
   "outputs": [],
   "source": [
    "raw_data = read_file(\"../data_expression_median.txt\")\n",
    "# raw_data"
   ]
  },
  {
   "cell_type": "code",
   "execution_count": 37,
   "metadata": {},
   "outputs": [
    {
     "data": {
      "text/plain": [
       "(24368, 1906)"
      ]
     },
     "execution_count": 37,
     "metadata": {},
     "output_type": "execute_result"
    }
   ],
   "source": [
    "raw_data.shape"
   ]
  },
  {
   "cell_type": "code",
   "execution_count": 38,
   "metadata": {},
   "outputs": [],
   "source": [
    "# raw_data = raw_data.iloc[:,:100]"
   ]
  },
  {
   "cell_type": "code",
   "execution_count": 39,
   "metadata": {},
   "outputs": [],
   "source": [
    "def preprocessing(df):\n",
    "    # reset column name and drop all row Nan value\n",
    "    df = df.T\n",
    "    df = df.drop(['Entrez_Gene_Id'], axis = 0)\n",
    "    df = df.dropna()\n",
    "#     df.iloc[:,0:24368] = df.iloc[:,0:24368].astype('float64')\n",
    "    return df"
   ]
  },
  {
   "cell_type": "code",
   "execution_count": 40,
   "metadata": {
    "scrolled": true
   },
   "outputs": [],
   "source": [
    "df = preprocessing(raw_data)\n",
    "# df"
   ]
  },
  {
   "cell_type": "code",
   "execution_count": 42,
   "metadata": {},
   "outputs": [],
   "source": [
    "Hugo_Symbol = df.iloc[0,:]"
   ]
  },
  {
   "cell_type": "code",
   "execution_count": 43,
   "metadata": {},
   "outputs": [],
   "source": [
    "df = df.drop(['Hugo_Symbol'], axis = 0)"
   ]
  },
  {
   "cell_type": "code",
   "execution_count": 10,
   "metadata": {},
   "outputs": [],
   "source": [
    "def preprocessing_clinical(df):\n",
    "    # reset column name and drop all row Nan value\n",
    "    df.columns = df.iloc[3]\n",
    "    df = df.iloc[4:]\n",
    "    df = df.dropna()\n",
    "    # reset data type of each column\n",
    "    df[\"LYMPH_NODES_EXAMINED_POSITIVE\"] = df[\"LYMPH_NODES_EXAMINED_POSITIVE\"].astype('int64')\n",
    "    df[\"NPI\"] = df[\"NPI\"].astype('float64')\n",
    "    df[\"CELLULARITY\"] = df[\"CELLULARITY\"].astype('category')\n",
    "    df[\"CHEMOTHERAPY\"] = df[\"CHEMOTHERAPY\"].astype('category')\n",
    "    df[\"COHORT\"] = df[\"COHORT\"].astype('int64')\n",
    "    df[\"ER_IHC\"] = df[\"ER_IHC\"].astype('category')\n",
    "    df[\"HER2_SNP6\"] = df[\"HER2_SNP6\"].astype('category')\n",
    "    df[\"HORMONE_THERAPY\"] = df[\"HORMONE_THERAPY\"].astype('category')\n",
    "    df[\"INFERRED_MENOPAUSAL_STATE\"] = df[\"INFERRED_MENOPAUSAL_STATE\"].astype('category')\n",
    "    df[\"INTCLUST\"] = df[\"INTCLUST\"].astype('category')\n",
    "    df[\"AGE_AT_DIAGNOSIS\"] = df[\"AGE_AT_DIAGNOSIS\"].astype('float64')\n",
    "    df[\"OS_MONTHS\"] = df[\"OS_MONTHS\"].astype('float64')\n",
    "    df[\"OS_STATUS\"] = df[\"OS_STATUS\"].astype('category')\n",
    "    df[\"CLAUDIN_SUBTYPE\"] = df[\"CLAUDIN_SUBTYPE\"].astype('category')\n",
    "    df[\"THREEGENE\"] = df[\"THREEGENE\"].astype('category')\n",
    "    df[\"VITAL_STATUS\"] = df[\"VITAL_STATUS\"].astype('category')\n",
    "    df[\"LATERALITY\"] = df[\"LATERALITY\"].astype('category')\n",
    "    df[\"RADIO_THERAPY\"] = df[\"RADIO_THERAPY\"].astype('category')\n",
    "    df[\"HISTOLOGICAL_SUBTYPE\"] = df[\"HISTOLOGICAL_SUBTYPE\"].astype('category')\n",
    "    df[\"BREAST_SURGERY\"] = df[\"BREAST_SURGERY\"].astype('category')\n",
    "    \n",
    "    return df\n",
    "\n",
    "def category_encoding(df):\n",
    "    char_cols = df.dtypes.pipe(lambda x: x[x == 'category']).index\n",
    "    label_mapping = {}\n",
    "\n",
    "    for c in char_cols:\n",
    "        df[c], label_mapping[c] = pd.factorize(df[c])\n",
    "    return (df,label_mapping)"
   ]
  },
  {
   "cell_type": "code",
   "execution_count": 11,
   "metadata": {},
   "outputs": [],
   "source": [
    "def data_create(data):\n",
    "    less_10_year = data.OS_MONTHS <= 120\n",
    "    dead_other_or_living = data.VITAL_STATUS.isin([0, 2])\n",
    "    bad_cases = less_10_year & dead_other_or_living\n",
    "    data_cli_final = data.drop(data[bad_cases].index)\n",
    "    data_cli_final['Y'] = (data_cli_final['OS_MONTHS'] <= 120)\n",
    "    y_data = data_cli_final['Y']\n",
    "    y_data = y_data * 1\n",
    "#     x_data = data_cli_final.iloc[:, 1:].drop(columns=['OS_STATUS', 'OS_MONTHS', 'VITAL_STATUS', 'Y'])\n",
    "    x_data = data_cli_final.drop(columns=['OS_STATUS', 'OS_MONTHS', 'VITAL_STATUS', 'Y'])\n",
    "    return (x_data, y_data)"
   ]
  },
  {
   "cell_type": "code",
   "execution_count": 12,
   "metadata": {},
   "outputs": [],
   "source": [
    "clinical_data = read_file(\"../data_clinical_patient.txt\")"
   ]
  },
  {
   "cell_type": "code",
   "execution_count": 14,
   "metadata": {},
   "outputs": [],
   "source": [
    "# clinical_data.columns = clinical_data.iloc[3]\n",
    "# clinical_data = clinical_data.iloc[4:]\n",
    "# clinical_data = clinical_data.dropna()"
   ]
  },
  {
   "cell_type": "code",
   "execution_count": 15,
   "metadata": {},
   "outputs": [],
   "source": [
    "data = preprocessing_clinical(clinical_data)"
   ]
  },
  {
   "cell_type": "code",
   "execution_count": 16,
   "metadata": {},
   "outputs": [],
   "source": [
    "data, mapping = category_encoding(data)"
   ]
  },
  {
   "cell_type": "code",
   "execution_count": 17,
   "metadata": {},
   "outputs": [],
   "source": [
    "(x_data, y_data) = data_create(data)"
   ]
  },
  {
   "cell_type": "code",
   "execution_count": 18,
   "metadata": {},
   "outputs": [],
   "source": [
    "patient_df = pd.DataFrame(data = {'PATIENT_ID': x_data['PATIENT_ID'], 'Y_label': y_data})"
   ]
  },
  {
   "cell_type": "code",
   "execution_count": 20,
   "metadata": {},
   "outputs": [
    {
     "data": {
      "text/plain": [
       "1125"
      ]
     },
     "execution_count": 20,
     "metadata": {},
     "output_type": "execute_result"
    }
   ],
   "source": [
    "# len(y_data)"
   ]
  },
  {
   "cell_type": "code",
   "execution_count": 21,
   "metadata": {},
   "outputs": [],
   "source": [
    "# less_10_year = data.OS_MONTHS <= 120"
   ]
  },
  {
   "cell_type": "code",
   "execution_count": 22,
   "metadata": {},
   "outputs": [],
   "source": [
    "# dead_other_or_living = data.VITAL_STATUS.isin([0, 2])"
   ]
  },
  {
   "cell_type": "code",
   "execution_count": null,
   "metadata": {},
   "outputs": [],
   "source": []
  },
  {
   "cell_type": "code",
   "execution_count": 44,
   "metadata": {},
   "outputs": [],
   "source": [
    "merged = pd.merge(left=df,right=patient_df, left_on=df.index, right_on='PATIENT_ID')"
   ]
  },
  {
   "cell_type": "code",
   "execution_count": 45,
   "metadata": {},
   "outputs": [
    {
     "data": {
      "text/plain": [
       "(1119, 24370)"
      ]
     },
     "execution_count": 45,
     "metadata": {},
     "output_type": "execute_result"
    }
   ],
   "source": [
    "merged.shape"
   ]
  },
  {
   "cell_type": "code",
   "execution_count": 46,
   "metadata": {},
   "outputs": [],
   "source": [
    "# patient_df"
   ]
  },
  {
   "cell_type": "code",
   "execution_count": null,
   "metadata": {},
   "outputs": [],
   "source": []
  },
  {
   "cell_type": "code",
   "execution_count": 47,
   "metadata": {},
   "outputs": [],
   "source": [
    "Hugo_names = list(Hugo_Symbol)"
   ]
  },
  {
   "cell_type": "code",
   "execution_count": 48,
   "metadata": {},
   "outputs": [],
   "source": [
    "Hugo_names.append('OS_STATUS')"
   ]
  },
  {
   "cell_type": "code",
   "execution_count": 49,
   "metadata": {},
   "outputs": [],
   "source": [
    "merged = merged.drop(['PATIENT_ID'], axis = 1)"
   ]
  },
  {
   "cell_type": "code",
   "execution_count": 50,
   "metadata": {},
   "outputs": [],
   "source": [
    "merged.columns = Hugo_names"
   ]
  },
  {
   "cell_type": "code",
   "execution_count": 51,
   "metadata": {},
   "outputs": [],
   "source": [
    "merged.to_csv('test_expression.csv', index = False, header = True)"
   ]
  },
  {
   "cell_type": "code",
   "execution_count": 63,
   "metadata": {},
   "outputs": [],
   "source": [
    "df['Hugo_Symbol'] = Hugo_Symbol"
   ]
  },
  {
   "cell_type": "code",
   "execution_count": 65,
   "metadata": {},
   "outputs": [],
   "source": [
    "Hugo_Symbol"
   ]
  },
  {
   "cell_type": "code",
   "execution_count": null,
   "metadata": {},
   "outputs": [],
   "source": []
  },
  {
   "cell_type": "code",
   "execution_count": null,
   "metadata": {},
   "outputs": [],
   "source": []
  },
  {
   "cell_type": "code",
   "execution_count": 56,
   "metadata": {},
   "outputs": [
    {
     "data": {
      "text/plain": [
       "0               RERE\n",
       "1             RNF165\n",
       "2           CD049690\n",
       "3           BC033982\n",
       "4               PHF7\n",
       "5              CIDEA\n",
       "6              PAPD4\n",
       "7           AI082173\n",
       "8            SLC17A3\n",
       "9                SDS\n",
       "10          ATP6V1C2\n",
       "11                F3\n",
       "12            FAM71C\n",
       "13          AK055082\n",
       "14          BU687559\n",
       "15             LIN52\n",
       "16             PCOTH\n",
       "17              GRM1\n",
       "18               FXN\n",
       "19            SLC9A1\n",
       "20               PML\n",
       "21          CR749394\n",
       "22             CD164\n",
       "23          DB337918\n",
       "24           MOBKL2A\n",
       "25          HGC6.1.1\n",
       "26             OR1J2\n",
       "27              GNG5\n",
       "28             TAF15\n",
       "29             EXTL3\n",
       "            ...     \n",
       "24338          ELANE\n",
       "24339         SHISA2\n",
       "24340          BCAT1\n",
       "24341       BU738502\n",
       "24342        NCKAP1L\n",
       "24343        TMEM146\n",
       "24344       AK098705\n",
       "24345        PSMC3IP\n",
       "24346          TEAD1\n",
       "24347      LOC253724\n",
       "24348       BM725158\n",
       "24349          GRHPR\n",
       "24350    RAB4B-EGLN2\n",
       "24351         TBC1D4\n",
       "24352        ANGPTL2\n",
       "24353       AF086457\n",
       "24354       AK124197\n",
       "24355          ENOX1\n",
       "24356      LOC283104\n",
       "24357          VN1R4\n",
       "24358       BX115874\n",
       "24359       BX107598\n",
       "24360         UGCGL1\n",
       "24361          VPS72\n",
       "24362          CSMD3\n",
       "24363         CC2D1A\n",
       "24364       CB986545\n",
       "24365          IGSF9\n",
       "24366       DA110839\n",
       "24367         FAM71A\n",
       "Name: Hugo_Symbol, Length: 24368, dtype: object"
      ]
     },
     "execution_count": 56,
     "metadata": {},
     "output_type": "execute_result"
    }
   ],
   "source": [
    "Hugo_Symbol"
   ]
  },
  {
   "cell_type": "code",
   "execution_count": 107,
   "metadata": {},
   "outputs": [],
   "source": [
    "X = merged.iloc[:,0:24368].values\n",
    "y = merged[['OS_STATUS']].values"
   ]
  },
  {
   "cell_type": "code",
   "execution_count": 108,
   "metadata": {},
   "outputs": [],
   "source": [
    "#Test train split\n",
    "from sklearn.model_selection import train_test_split\n",
    "X_train,X_test,y_train,y_test = train_test_split(X,y,test_size=0.2)"
   ]
  },
  {
   "cell_type": "code",
   "execution_count": 109,
   "metadata": {},
   "outputs": [],
   "source": [
    "from sklearn.preprocessing import StandardScaler\n",
    "X_train = StandardScaler().fit_transform(X_train)\n",
    "X_test = StandardScaler().fit_transform(X_test)"
   ]
  },
  {
   "cell_type": "code",
   "execution_count": 110,
   "metadata": {},
   "outputs": [],
   "source": [
    "from sklearn.decomposition import PCA\n",
    "pca = PCA(n_components=10)\n",
    "X_train = pca.fit_transform(X_train)\n",
    "X_test = pca.transform(X_test)\n"
   ]
  },
  {
   "cell_type": "code",
   "execution_count": 115,
   "metadata": {},
   "outputs": [],
   "source": [
    "from sklearn.metrics import mean_squared_error\n",
    "from math import sqrt\n",
    "import matplotlib.pyplot as plt\n",
    "from sklearn.model_selection import train_test_split\n",
    "from sklearn.model_selection import GridSearchCV\n",
    "from sklearn.svm import SVC\n",
    "from sklearn.metrics import roc_curve, auc \n",
    "from sklearn import preprocessing"
   ]
  },
  {
   "cell_type": "code",
   "execution_count": 126,
   "metadata": {},
   "outputs": [
    {
     "name": "stdout",
     "output_type": "stream",
     "text": [
      "Best parameters set found on development set:\n",
      "\n",
      "{'C': 10, 'kernel': 'linear'}\n"
     ]
    },
    {
     "data": {
      "text/plain": [
       "<Figure size 432x288 with 0 Axes>"
      ]
     },
     "metadata": {},
     "output_type": "display_data"
    },
    {
     "data": {
      "image/png": "[encoded data removed]",
      "text/plain": [
       "<Figure size 720x720 with 1 Axes>"
      ]
     },
     "metadata": {
      "needs_background": "light"
     },
     "output_type": "display_data"
    }
   ],
   "source": [
    "tuned_parameters = [{'kernel': ['linear'], 'C': [1, 10]}]\n",
    "\n",
    "# Grid Search\n",
    "clf = GridSearchCV(SVC(), tuned_parameters, cv=5,\n",
    "                   scoring='f1')\n",
    "clf.fit(X_train, np.ravel(y_train))\n",
    "\n",
    "print(\"Best parameters set found on development set:\")\n",
    "print()\n",
    "print(clf.best_params_)\n",
    "\n",
    "y_score = clf.decision_function(X_test)\n",
    "\n",
    "# Plot ROC AUC Curve\n",
    "# Compute ROC curve and ROC area for each class\n",
    "fpr,tpr,threshold = roc_curve(y_test, y_score) \n",
    "roc_auc = auc(fpr,tpr) \n",
    "\n",
    "plt.figure()\n",
    "lw = 2\n",
    "plt.figure(figsize=(10,10))\n",
    "plt.plot(fpr, tpr, color='darkorange',\n",
    "         lw=lw, label='ROC curve (area = %0.2f)' % roc_auc) ###假正率为横坐标，真正率为纵坐标做曲线\n",
    "plt.plot([0, 1], [0, 1], color='navy', lw=lw, linestyle='--')\n",
    "plt.xlim([0.0, 1.0])\n",
    "plt.ylim([0.0, 1.05])\n",
    "plt.xlabel('False Positive Rate')\n",
    "plt.ylabel('True Positive Rate')\n",
    "plt.title('Receiver operating characteristic example')\n",
    "plt.legend(loc=\"lower right\")\n",
    "plt.show()"
   ]
  },
  {
   "cell_type": "code",
   "execution_count": null,
   "metadata": {},
   "outputs": [],
   "source": []
  },
  {
   "cell_type": "code",
   "execution_count": null,
   "metadata": {},
   "outputs": [],
   "source": []
  },
  {
   "cell_type": "code",
   "execution_count": null,
   "metadata": {},
   "outputs": [],
   "source": []
  },
  {
   "cell_type": "code",
   "execution_count": 123,
   "metadata": {},
   "outputs": [],
   "source": [
    "#Create classifier object\n",
    "from sklearn.svm import SVC\n",
    "classifier_svm_kernel = SVC(C=5.0,kernel='rbf', gamma=0.12,tol=0.00001)\n",
    "classifier_svm_kernel.fit(X_train,np.ravel(y_train))\n",
    "\n",
    "#Predict the result for test values\n",
    "y_pred = classifier_svm_kernel.predict(X_test)\n"
   ]
  },
  {
   "cell_type": "code",
   "execution_count": 124,
   "metadata": {},
   "outputs": [],
   "source": [
    "#Comparing the predictions with the actual results\n",
    "comparison = pd.DataFrame(y_test,columns=['y_test'])\n",
    "comparison['y_predicted'] = y_pred\n",
    "#comparison"
   ]
  },
  {
   "cell_type": "code",
   "execution_count": null,
   "metadata": {},
   "outputs": [],
   "source": [
    "#principalDf = pd.DataFrame(data = principalComponents)\n",
    "#finalDf = pd.concat([principalDf, y], axis = 1)\n"
   ]
  },
  {
   "cell_type": "code",
   "execution_count": null,
   "metadata": {},
   "outputs": [],
   "source": []
  },
  {
   "cell_type": "code",
   "execution_count": null,
   "metadata": {},
   "outputs": [],
   "source": []
  }
 ],
 "metadata": {
  "kernelspec": {
   "display_name": "Python 3",
   "language": "python",
   "name": "python3"
  },
  "language_info": {
   "codemirror_mode": {
    "name": "ipython",
    "version": 3
   },
   "file_extension": ".py",
   "mimetype": "text/x-python",
   "name": "python",
   "nbconvert_exporter": "python",
   "pygments_lexer": "ipython3",
   "version": "3.7.1"
  }
 },
 "nbformat": 4,
 "nbformat_minor": 2
}
