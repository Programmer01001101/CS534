{
 "cells": [
  {
   "cell_type": "code",
   "execution_count": 4,
   "metadata": {},
   "outputs": [
    {
     "name": "stdout",
     "output_type": "stream",
     "text": [
      "(270, 64) (270,)\n",
      "(90, 64) (90, 5)\n"
     ]
    }
   ],
   "source": [
    "from sklearn.datasets import load_digits\n",
    "from sklearn.model_selection import train_test_split\n",
    "from ReliefF import ReliefF\n",
    "\n",
    "digits = load_digits(2)\n",
    "X_train, X_test, y_train, y_test = train_test_split(digits.data, digits.target)\n",
    "print(X_train.shape , y_train.shape)\n",
    "\n",
    "fs = ReliefF(n_neighbors=100, n_features_to_keep=5)\n",
    "X_train = fs.fit_transform(X_train, y_train)\n",
    "X_test_subset = fs.transform(X_test)\n",
    "print(X_test.shape, X_test_subset.shape)"
   ]
  },
  {
   "cell_type": "code",
   "execution_count": null,
   "metadata": {},
   "outputs": [],
   "source": []
  }
 ],
 "metadata": {
  "kernelspec": {
   "display_name": "Python 3",
   "language": "python",
   "name": "python3"
  },
  "language_info": {
   "codemirror_mode": {
    "name": "ipython",
    "version": 3
   },
   "file_extension": ".py",
   "mimetype": "text/x-python",
   "name": "python",
   "nbconvert_exporter": "python",
   "pygments_lexer": "ipython3",
   "version": "3.7.1"
  }
 },
 "nbformat": 4,
 "nbformat_minor": 2
}
